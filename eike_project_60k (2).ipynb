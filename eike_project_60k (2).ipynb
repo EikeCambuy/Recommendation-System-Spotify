{
 "cells": [
  {
   "cell_type": "code",
   "execution_count": 5,
   "metadata": {},
   "outputs": [],
   "source": [
    "import pandas as pd\n",
    "import numpy as np\n",
    "from sklearn.feature_extraction.text import CountVectorizer\n",
    "from sklearn.metrics.pairwise import cosine_similarity\n",
    "df_spotify = pd.read_csv(\"2final_spo.csv\")\n",
    "df_spotify = df_spotify.head(60000)\n"
   ]
  },
  {
   "cell_type": "code",
   "execution_count": 6,
   "metadata": {},
   "outputs": [
    {
     "data": {
      "text/plain": [
       "(60000, 22)"
      ]
     },
     "execution_count": 6,
     "metadata": {},
     "output_type": "execute_result"
    }
   ],
   "source": [
    "df_spotify.shape"
   ]
  },
  {
   "cell_type": "code",
   "execution_count": 7,
   "metadata": {},
   "outputs": [
    {
     "name": "stdout",
     "output_type": "stream",
     "text": [
      "Top 10 artistas mais relacionados ao usuário com user_id 'e5c88e9bb1634611a9c6498f82c923ca' são:\n",
      "\n",
      "1 -> Searching The Desert For The Blues\n",
      "2 -> Vaqueiro Adorador\n",
      "3 -> Southern Bugs\n",
      "4 -> Balada para un Loco\n",
      "5 -> 心之書\n",
      "6 -> Scientific Method Song\n",
      "7 -> Circle Jerk\n",
      "8 -> Feliz Outra Vez\n",
      "9 -> Nossa Canção (feat. Gabriela Rocha) - Ao Vivo\n",
      "10 -> Fall, Rise And・・・\n"
     ]
    }
   ],
   "source": [
    "features = ['User_id', 'Mode', 'Duration_ms', 'Instrumentalness', 'Acousticness', 'Danceability', 'Energy', 'Liveness', 'Loudness', 'Speechiness', 'Tempo', 'Valence']\n",
    "def combine_all_features(row):\n",
    "    return str(row['User_id']) + \" \" + str(row['Mode']) + \" \" + str(row['Duration_ms']) + \" \" + str(row['Instrumentalness']) + \" \" + str(row['Acousticness']) + \" \" + str(row['Danceability']) + \" \" + str(row[\"Energy\"]) + \" \" + str(row[\"Liveness\"]) + \" \" + str(row[\"Loudness\"]) + \" \" + str(row[\"Speechiness\"]) + \" \" + str(row[\"Tempo\"]) + \" \" + str(row[\"Valence\"])\n",
    "df_spotify['Combined_features'] = df_spotify.apply(combine_all_features, axis=1)\n",
    "# Crie uma nova matriz de contagem\n",
    "cv = CountVectorizer()\n",
    "count_matrix = cv.fit_transform(df_spotify['Combined_features'])\n",
    "cosine_sim = cosine_similarity(count_matrix)\n",
    "# Função para obter o índice de um artista com base no nome do artista\n",
    "def fetch_track_from_user(User_id):\n",
    "    return df_spotify[df_spotify['User_id'] == User_id].index[0]\n",
    "# Escolha um 'user_id' para encontrar artistas similares\n",
    "user_id_choice = \"e5c88e9bb1634611a9c6498f82c923ca\"\n",
    "# Encontre o índice correspondente ao 'user_id' escolhido\n",
    "user_id_index = df_spotify[df_spotify['User_id'] == user_id_choice].index[0]\n",
    "# Obtenha artistas similares com base no 'user_id'\n",
    "similar_songs_user = list(enumerate(cosine_sim[user_id_index]))\n",
    "user_heard_songs = df_spotify[df_spotify['User_id'] == user_id_choice]['Track_name']\n",
    "similar_songs_user = [song for song in similar_songs_user if df_spotify['Track_name'].iloc[song[0]] not in user_heard_songs]\n",
    "recommended_songs_set = set()\n",
    "# Ordene por similaridade (do mais similar para o menos similar)\n",
    "sim_songs_sort_user = sorted(similar_songs_user, key=lambda x: x[1], reverse=True)[1:]\n",
    "# Imprima as 10 principais recomendações com base no 'user_id'\n",
    "i = 0\n",
    "print(f\"Top 10 artistas mais relacionados ao usuário com user_id '{user_id_choice}' são:\\n\")\n",
    "for element in sim_songs_sort_user:\n",
    "    recommended_song = df_spotify['Track_name'].iloc[element[0]]\n",
    "    # Adicionar à lista apenas se não estiver nas músicas recomendadas\n",
    "    if recommended_song not in recommended_songs_set:\n",
    "        recommended_songs_set.add(recommended_song)\n",
    "        print(i + 1, '->', recommended_song)\n",
    "        i = i + 1\n",
    "    if i >= 10:\n",
    "        break"
   ]
  },
  {
   "cell_type": "code",
   "execution_count": 8,
   "metadata": {},
   "outputs": [
    {
     "name": "stdout",
     "output_type": "stream",
     "text": [
      "Top 10 artistas mais relacionados ao usuário com user_id '748fb80966d54333beb2eb18e73161b3' são:\n",
      "\n",
      "1 -> Searching The Desert For The Blues\n",
      "2 -> Vaqueiro Adorador\n",
      "3 -> Balada para un Loco\n",
      "4 -> Scientific Method Song\n",
      "5 -> Circle Jerk\n",
      "6 -> Feliz Outra Vez\n",
      "7 -> Sem Compromisso / Deixa a Menina - Ao Vivo\n",
      "8 -> Can You Hear Me\n",
      "9 -> Niscaja\n",
      "10 -> Teeth into Red\n"
     ]
    }
   ],
   "source": [
    "features = ['User_id', 'Mode', 'Duration_ms', 'Instrumentalness', 'Acousticness', 'Danceability', 'Energy', 'Liveness', 'Loudness', 'Speechiness', 'Tempo', 'Valence']\n",
    "def combine_all_features(row):\n",
    "    return str(row['User_id']) + \" \" + str(row['Mode']) + \" \" + str(row['Duration_ms']) + \" \" + str(row['Instrumentalness']) + \" \" + str(row['Acousticness']) + \" \" + str(row['Danceability']) + \" \" + str(row[\"Energy\"]) + \" \" + str(row[\"Liveness\"]) + \" \" + str(row[\"Loudness\"]) + \" \" + str(row[\"Speechiness\"]) + \" \" + str(row[\"Tempo\"]) + \" \" + str(row[\"Valence\"])\n",
    "df_spotify['Combined_features'] = df_spotify.apply(combine_all_features, axis=1)\n",
    "# Crie uma nova matriz de contagem\n",
    "cv = CountVectorizer()\n",
    "count_matrix = cv.fit_transform(df_spotify['Combined_features'])\n",
    "cosine_sim = cosine_similarity(count_matrix)\n",
    "# Função para obter o índice de um artista com base no nome do artista\n",
    "def fetch_track_from_user(User_id):\n",
    "    return df_spotify[df_spotify['User_id'] == User_id].index[0]\n",
    "# Escolha um 'user_id' para encontrar artistas similares\n",
    "user_id_choice = \"748fb80966d54333beb2eb18e73161b3\"\n",
    "# Encontre o índice correspondente ao 'user_id' escolhido\n",
    "user_id_index = df_spotify[df_spotify['User_id'] == user_id_choice].index[0]\n",
    "# Obtenha artistas similares com base no 'user_id'\n",
    "similar_songs_user = list(enumerate(cosine_sim[user_id_index]))\n",
    "user_heard_songs = df_spotify[df_spotify['User_id'] == user_id_choice]['Track_name']\n",
    "similar_songs_user = [song for song in similar_songs_user if df_spotify['Track_name'].iloc[song[0]] not in user_heard_songs]\n",
    "recommended_songs_set = set()\n",
    "# Ordene por similaridade (do mais similar para o menos similar)\n",
    "sim_songs_sort_user = sorted(similar_songs_user, key=lambda x: x[1], reverse=True)[1:]\n",
    "# Imprima as 10 principais recomendações com base no 'user_id'\n",
    "i = 0\n",
    "print(f\"Top 10 artistas mais relacionados ao usuário com user_id '{user_id_choice}' são:\\n\")\n",
    "for element in sim_songs_sort_user:\n",
    "    recommended_song = df_spotify['Track_name'].iloc[element[0]]\n",
    "    # Adicionar à lista apenas se não estiver nas músicas recomendadas\n",
    "    if recommended_song not in recommended_songs_set:\n",
    "        recommended_songs_set.add(recommended_song)\n",
    "        print(i + 1, '->', recommended_song)\n",
    "        i = i + 1\n",
    "    if i >= 10:\n",
    "        break\n",
    "    "
   ]
  },
  {
   "cell_type": "code",
   "execution_count": 9,
   "metadata": {},
   "outputs": [
    {
     "name": "stdout",
     "output_type": "stream",
     "text": [
      "Top 10 artistas mais relacionados ao usuário com user_id '104c97740f6442bfacb369d6e10149ac' são:\n",
      "\n",
      "1 -> Searching The Desert For The Blues\n",
      "2 -> Southern Bugs\n",
      "3 -> Balada para un Loco\n",
      "4 -> 心之書\n",
      "5 -> Scientific Method Song\n",
      "6 -> Vaqueiro Adorador\n",
      "7 -> Sem Compromisso / Deixa a Menina - Ao Vivo\n",
      "8 -> Can You Hear Me\n",
      "9 -> Niscaja\n",
      "10 -> 深呼吸\n"
     ]
    }
   ],
   "source": [
    "features = ['User_id', 'Mode', 'Duration_ms', 'Instrumentalness', 'Acousticness', 'Danceability', 'Energy', 'Liveness', 'Loudness', 'Speechiness', 'Tempo', 'Valence']\n",
    "def combine_all_features(row):\n",
    "    return str(row['User_id']) + \" \" + str(row['Mode']) + \" \" + str(row['Duration_ms']) + \" \" + str(row['Instrumentalness']) + \" \" + str(row['Acousticness']) + \" \" + str(row['Danceability']) + \" \" + str(row[\"Energy\"]) + \" \" + str(row[\"Liveness\"]) + \" \" + str(row[\"Loudness\"]) + \" \" + str(row[\"Speechiness\"]) + \" \" + str(row[\"Tempo\"]) + \" \" + str(row[\"Valence\"])\n",
    "df_spotify['Combined_features'] = df_spotify.apply(combine_all_features, axis=1)\n",
    "# Crie uma nova matriz de contagem\n",
    "cv = CountVectorizer()\n",
    "count_matrix = cv.fit_transform(df_spotify['Combined_features'])\n",
    "cosine_sim = cosine_similarity(count_matrix)\n",
    "# Função para obter o índice de um artista com base no nome do artista\n",
    "def fetch_track_from_user(User_id):\n",
    "    return df_spotify[df_spotify['User_id'] == User_id].index[0]\n",
    "# Escolha um 'user_id' para encontrar artistas similares\n",
    "user_id_choice = \"104c97740f6442bfacb369d6e10149ac\"\n",
    "# Encontre o índice correspondente ao 'user_id' escolhido\n",
    "user_id_index = df_spotify[df_spotify['User_id'] == user_id_choice].index[0]\n",
    "# Obtenha artistas similares com base no 'user_id'\n",
    "similar_songs_user = list(enumerate(cosine_sim[user_id_index]))\n",
    "user_heard_songs = df_spotify[df_spotify['User_id'] == user_id_choice]['Track_name']\n",
    "similar_songs_user = [song for song in similar_songs_user if df_spotify['Track_name'].iloc[song[0]] not in user_heard_songs]\n",
    "recommended_songs_set = set()\n",
    "# Ordene por similaridade (do mais similar para o menos similar)\n",
    "sim_songs_sort_user = sorted(similar_songs_user, key=lambda x: x[1], reverse=True)[1:]\n",
    "# Imprima as 10 principais recomendações com base no 'user_id'\n",
    "i = 0\n",
    "print(f\"Top 10 artistas mais relacionados ao usuário com user_id '{user_id_choice}' são:\\n\")\n",
    "for element in sim_songs_sort_user:\n",
    "    recommended_song = df_spotify['Track_name'].iloc[element[0]]\n",
    "    # Adicionar à lista apenas se não estiver nas músicas recomendadas\n",
    "    if recommended_song not in recommended_songs_set:\n",
    "        recommended_songs_set.add(recommended_song)\n",
    "        print(i + 1, '->', recommended_song)\n",
    "        i = i + 1\n",
    "    if i >= 10:\n",
    "        break"
   ]
  },
  {
   "cell_type": "code",
   "execution_count": 10,
   "metadata": {},
   "outputs": [
    {
     "name": "stdout",
     "output_type": "stream",
     "text": [
      "Top 10 artistas mais relacionados ao usuário com user_id 'e978494639fa4bb8ad452799c305d579' são:\n",
      "\n",
      "1 -> Searching The Desert For The Blues\n",
      "2 -> Vaqueiro Adorador\n",
      "3 -> 心之書\n",
      "4 -> Circle Jerk\n",
      "5 -> Feliz Outra Vez\n",
      "6 -> Nossa Canção (feat. Gabriela Rocha) - Ao Vivo\n",
      "7 -> Fall, Rise And・・・\n",
      "8 -> Sem Compromisso / Deixa a Menina - Ao Vivo\n",
      "9 -> Can You Hear Me\n",
      "10 -> Niscaja\n"
     ]
    }
   ],
   "source": [
    "features = ['User_id', 'Mode', 'Duration_ms', 'Instrumentalness', 'Acousticness', 'Danceability', 'Energy', 'Liveness', 'Loudness', 'Speechiness', 'Tempo', 'Valence']\n",
    "def combine_all_features(row):\n",
    "    return str(row['User_id']) + \" \" + str(row['Mode']) + \" \" + str(row['Duration_ms']) + \" \" + str(row['Instrumentalness']) + \" \" + str(row['Acousticness']) + \" \" + str(row['Danceability']) + \" \" + str(row[\"Energy\"]) + \" \" + str(row[\"Liveness\"]) + \" \" + str(row[\"Loudness\"]) + \" \" + str(row[\"Speechiness\"]) + \" \" + str(row[\"Tempo\"]) + \" \" + str(row[\"Valence\"])\n",
    "df_spotify['Combined_features'] = df_spotify.apply(combine_all_features, axis=1)\n",
    "# Crie uma nova matriz de contagem\n",
    "cv = CountVectorizer()\n",
    "count_matrix = cv.fit_transform(df_spotify['Combined_features'])\n",
    "cosine_sim = cosine_similarity(count_matrix)\n",
    "# Função para obter o índice de um artista com base no nome do artista\n",
    "def fetch_track_from_user(User_id):\n",
    "    return df_spotify[df_spotify['User_id'] == User_id].index[0]\n",
    "# Escolha um 'user_id' para encontrar artistas similares\n",
    "user_id_choice = \"e978494639fa4bb8ad452799c305d579\"\n",
    "# Encontre o índice correspondente ao 'user_id' escolhido\n",
    "user_id_index = df_spotify[df_spotify['User_id'] == user_id_choice].index[0]\n",
    "# Obtenha artistas similares com base no 'user_id'\n",
    "similar_songs_user = list(enumerate(cosine_sim[user_id_index]))\n",
    "user_heard_songs = df_spotify[df_spotify['User_id'] == user_id_choice]['Track_name']\n",
    "similar_songs_user = [song for song in similar_songs_user if df_spotify['Track_name'].iloc[song[0]] not in user_heard_songs]\n",
    "recommended_songs_set = set()\n",
    "# Ordene por similaridade (do mais similar para o menos similar)\n",
    "sim_songs_sort_user = sorted(similar_songs_user, key=lambda x: x[1], reverse=True)[1:]\n",
    "# Imprima as 10 principais recomendações com base no 'user_id'\n",
    "i = 0\n",
    "print(f\"Top 10 artistas mais relacionados ao usuário com user_id '{user_id_choice}' são:\\n\")\n",
    "for element in sim_songs_sort_user:\n",
    "    recommended_song = df_spotify['Track_name'].iloc[element[0]]\n",
    "    # Adicionar à lista apenas se não estiver nas músicas recomendadas\n",
    "    if recommended_song not in recommended_songs_set:\n",
    "        recommended_songs_set.add(recommended_song)\n",
    "        print(i + 1, '->', recommended_song)\n",
    "        i = i + 1\n",
    "    if i >= 10:\n",
    "        break"
   ]
  },
  {
   "cell_type": "code",
   "execution_count": 11,
   "metadata": {},
   "outputs": [
    {
     "name": "stdout",
     "output_type": "stream",
     "text": [
      "Top 10 artistas mais relacionados ao usuário com user_id '2806ea2f42174980b61a17c05c055f19' são:\n",
      "\n",
      "1 -> Golden Strings (demo)\n",
      "2 -> This Time Around - Chris Lord-Alge Mix\n",
      "3 -> New Lows\n",
      "4 -> 浪漫九龍城\n",
      "5 -> Spiral of Mystery\n",
      "6 -> Salvation Smothered (Genocide of Flock)\n",
      "7 -> Morgen Triffst Du Den Tod\n",
      "8 -> Herederos de la Fe\n",
      "9 -> Measure of a Man (feat. Central Cee)\n",
      "10 -> I'm Australian Man\n"
     ]
    }
   ],
   "source": [
    "features = ['User_id', 'Mode', 'Duration_ms', 'Instrumentalness', 'Acousticness', 'Danceability', 'Energy', 'Liveness', 'Loudness', 'Speechiness', 'Tempo', 'Valence']\n",
    "def combine_all_features(row):\n",
    "    return str(row['User_id']) + \" \" + str(row['Mode']) + \" \" + str(row['Duration_ms']) + \" \" + str(row['Instrumentalness']) + \" \" + str(row['Acousticness']) + \" \" + str(row['Danceability']) + \" \" + str(row[\"Energy\"]) + \" \" + str(row[\"Liveness\"]) + \" \" + str(row[\"Loudness\"]) + \" \" + str(row[\"Speechiness\"]) + \" \" + str(row[\"Tempo\"]) + \" \" + str(row[\"Valence\"])\n",
    "df_spotify['Combined_features'] = df_spotify.apply(combine_all_features, axis=1)\n",
    "# Crie uma nova matriz de contagem\n",
    "cv = CountVectorizer()\n",
    "count_matrix = cv.fit_transform(df_spotify['Combined_features'])\n",
    "cosine_sim = cosine_similarity(count_matrix)\n",
    "# Função para obter o índice de um artista com base no nome do artista\n",
    "def fetch_track_from_user(User_id):\n",
    "    return df_spotify[df_spotify['User_id'] == User_id].index[0]\n",
    "# Escolha um 'user_id' para encontrar artistas similares\n",
    "user_id_choice = \"2806ea2f42174980b61a17c05c055f19\"\n",
    "# Encontre o índice correspondente ao 'user_id' escolhido\n",
    "user_id_index = df_spotify[df_spotify['User_id'] == user_id_choice].index[0]\n",
    "# Obtenha artistas similares com base no 'user_id'\n",
    "similar_songs_user = list(enumerate(cosine_sim[user_id_index]))\n",
    "user_heard_songs = df_spotify[df_spotify['User_id'] == user_id_choice]['Track_name']\n",
    "similar_songs_user = [song for song in similar_songs_user if df_spotify['Track_name'].iloc[song[0]] not in user_heard_songs]\n",
    "recommended_songs_set = set()\n",
    "# Ordene por similaridade (do mais similar para o menos similar)\n",
    "sim_songs_sort_user = sorted(similar_songs_user, key=lambda x: x[1], reverse=True)[1:]\n",
    "# Imprima as 10 principais recomendações com base no 'user_id'\n",
    "i = 0\n",
    "print(f\"Top 10 artistas mais relacionados ao usuário com user_id '{user_id_choice}' são:\\n\")\n",
    "for element in sim_songs_sort_user:\n",
    "    recommended_song = df_spotify['Track_name'].iloc[element[0]]\n",
    "    # Adicionar à lista apenas se não estiver nas músicas recomendadas\n",
    "    if recommended_song not in recommended_songs_set:\n",
    "        recommended_songs_set.add(recommended_song)\n",
    "        print(i + 1, '->', recommended_song)\n",
    "        i = i + 1\n",
    "    if i >= 10:\n",
    "        break"
   ]
  },
  {
   "cell_type": "code",
   "execution_count": 12,
   "metadata": {},
   "outputs": [
    {
     "name": "stdout",
     "output_type": "stream",
     "text": [
      "Top 10 artistas mais relacionados ao usuário com user_id '762b9ccd80f44fdbb89795656a28a357' são:\n",
      "\n",
      "1 -> My Immortal\n",
      "2 -> Secret Place - Benny L Remix\n",
      "3 -> Goodbye\n",
      "4 -> Dissolve In My Shadow\n",
      "5 -> Placid\n",
      "6 -> King of the Burning Anthems\n",
      "7 -> Sting Ray Dub\n",
      "8 -> Yemaya - Louie Vega's DJ Tool Instrumental\n",
      "9 -> Relapse - Original Mix\n",
      "10 -> Little Girls Are Always Right (Live)\n"
     ]
    }
   ],
   "source": [
    "features = ['User_id', 'Mode', 'Duration_ms', 'Instrumentalness', 'Acousticness', 'Danceability', 'Energy', 'Liveness', 'Loudness', 'Speechiness', 'Tempo', 'Valence']\n",
    "def combine_all_features(row):\n",
    "    return str(row['User_id']) + \" \" + str(row['Mode']) + \" \" + str(row['Duration_ms']) + \" \" + str(row['Instrumentalness']) + \" \" + str(row['Acousticness']) + \" \" + str(row['Danceability']) + \" \" + str(row[\"Energy\"]) + \" \" + str(row[\"Liveness\"]) + \" \" + str(row[\"Loudness\"]) + \" \" + str(row[\"Speechiness\"]) + \" \" + str(row[\"Tempo\"]) + \" \" + str(row[\"Valence\"])\n",
    "df_spotify['Combined_features'] = df_spotify.apply(combine_all_features, axis=1)\n",
    "# Crie uma nova matriz de contagem\n",
    "cv = CountVectorizer()\n",
    "count_matrix = cv.fit_transform(df_spotify['Combined_features'])\n",
    "cosine_sim = cosine_similarity(count_matrix)\n",
    "# Função para obter o índice de um artista com base no nome do artista\n",
    "def fetch_track_from_user(User_id):\n",
    "    return df_spotify[df_spotify['User_id'] == User_id].index[0]\n",
    "# Escolha um 'user_id' para encontrar artistas similares\n",
    "user_id_choice = \"762b9ccd80f44fdbb89795656a28a357\"\n",
    "# Encontre o índice correspondente ao 'user_id' escolhido\n",
    "user_id_index = df_spotify[df_spotify['User_id'] == user_id_choice].index[0]\n",
    "# Obtenha artistas similares com base no 'user_id'\n",
    "similar_songs_user = list(enumerate(cosine_sim[user_id_index]))\n",
    "user_heard_songs = df_spotify[df_spotify['User_id'] == user_id_choice]['Track_name']\n",
    "similar_songs_user = [song for song in similar_songs_user if df_spotify['Track_name'].iloc[song[0]] not in user_heard_songs]\n",
    "recommended_songs_set = set()\n",
    "# Ordene por similaridade (do mais similar para o menos similar)\n",
    "sim_songs_sort_user = sorted(similar_songs_user, key=lambda x: x[1], reverse=True)[1:]\n",
    "# Imprima as 10 principais recomendações com base no 'user_id'\n",
    "i = 0\n",
    "print(f\"Top 10 artistas mais relacionados ao usuário com user_id '{user_id_choice}' são:\\n\")\n",
    "for element in sim_songs_sort_user:\n",
    "    recommended_song = df_spotify['Track_name'].iloc[element[0]]\n",
    "    # Adicionar à lista apenas se não estiver nas músicas recomendadas\n",
    "    if recommended_song not in recommended_songs_set:\n",
    "        recommended_songs_set.add(recommended_song)\n",
    "        print(i + 1, '->', recommended_song)\n",
    "        i = i + 1\n",
    "    if i >= 10:\n",
    "        break"
   ]
  },
  {
   "cell_type": "code",
   "execution_count": 13,
   "metadata": {},
   "outputs": [
    {
     "name": "stdout",
     "output_type": "stream",
     "text": [
      "Top 10 artistas mais relacionados ao usuário com user_id '0bf185e7692c4ebbbed34ddaa66f76f8' são:\n",
      "\n",
      "1 -> Best Days\n",
      "2 -> De Igual A Igual\n",
      "3 -> You Are The Top - Remastered 2018\n",
      "4 -> Another Song Nobody Will Hear (feat. Wade Bowen)\n",
      "5 -> Don't Look Back\n",
      "6 -> Machina\n",
      "7 -> Humanity\n",
      "8 -> Music Is My Saviour (feat. Mixie Moon)\n",
      "9 -> Sittin' On Top of The World\n",
      "10 -> Nerves\n"
     ]
    }
   ],
   "source": [
    "features = ['User_id', 'Mode', 'Duration_ms', 'Instrumentalness', 'Acousticness', 'Danceability', 'Energy', 'Liveness', 'Loudness', 'Speechiness', 'Tempo', 'Valence']\n",
    "def combine_all_features(row):\n",
    "    return str(row['User_id']) + \" \" + str(row['Mode']) + \" \" + str(row['Duration_ms']) + \" \" + str(row['Instrumentalness']) + \" \" + str(row['Acousticness']) + \" \" + str(row['Danceability']) + \" \" + str(row[\"Energy\"]) + \" \" + str(row[\"Liveness\"]) + \" \" + str(row[\"Loudness\"]) + \" \" + str(row[\"Speechiness\"]) + \" \" + str(row[\"Tempo\"]) + \" \" + str(row[\"Valence\"])\n",
    "df_spotify['Combined_features'] = df_spotify.apply(combine_all_features, axis=1)\n",
    "# Crie uma nova matriz de contagem\n",
    "cv = CountVectorizer()\n",
    "count_matrix = cv.fit_transform(df_spotify['Combined_features'])\n",
    "cosine_sim = cosine_similarity(count_matrix)\n",
    "# Função para obter o índice de um artista com base no nome do artista\n",
    "def fetch_track_from_user(User_id):\n",
    "    return df_spotify[df_spotify['User_id'] == User_id].index[0]\n",
    "# Escolha um 'user_id' para encontrar artistas similares\n",
    "user_id_choice = \"0bf185e7692c4ebbbed34ddaa66f76f8\"\n",
    "# Encontre o índice correspondente ao 'user_id' escolhido\n",
    "user_id_index = df_spotify[df_spotify['User_id'] == user_id_choice].index[0]\n",
    "# Obtenha artistas similares com base no 'user_id'\n",
    "similar_songs_user = list(enumerate(cosine_sim[user_id_index]))\n",
    "user_heard_songs = df_spotify[df_spotify['User_id'] == user_id_choice]['Track_name']\n",
    "similar_songs_user = [song for song in similar_songs_user if df_spotify['Track_name'].iloc[song[0]] not in user_heard_songs]\n",
    "recommended_songs_set = set()\n",
    "# Ordene por similaridade (do mais similar para o menos similar)\n",
    "sim_songs_sort_user = sorted(similar_songs_user, key=lambda x: x[1], reverse=True)[1:]\n",
    "# Imprima as 10 principais recomendações com base no 'user_id'\n",
    "i = 0\n",
    "print(f\"Top 10 artistas mais relacionados ao usuário com user_id '{user_id_choice}' são:\\n\")\n",
    "for element in sim_songs_sort_user:\n",
    "    recommended_song = df_spotify['Track_name'].iloc[element[0]]\n",
    "    # Adicionar à lista apenas se não estiver nas músicas recomendadas\n",
    "    if recommended_song not in recommended_songs_set:\n",
    "        recommended_songs_set.add(recommended_song)\n",
    "        print(i + 1, '->', recommended_song)\n",
    "        i = i + 1\n",
    "    if i >= 10:\n",
    "        break"
   ]
  },
  {
   "cell_type": "code",
   "execution_count": 14,
   "metadata": {},
   "outputs": [
    {
     "name": "stdout",
     "output_type": "stream",
     "text": [
      "Top 10 artistas mais relacionados ao usuário com user_id '371b7d462ce34846987451a3d66624ed' são:\n",
      "\n",
      "1 -> Best Days\n",
      "2 -> Come Back Home\n",
      "3 -> Aunque tú no lo sepas\n",
      "4 -> De Igual A Igual\n",
      "5 -> You Are The Top - Remastered 2018\n",
      "6 -> Another Song Nobody Will Hear (feat. Wade Bowen)\n",
      "7 -> Don't Look Back\n",
      "8 -> Aufbruch\n",
      "9 -> Rocinha\n",
      "10 -> Music Is My Saviour (feat. Mixie Moon)\n"
     ]
    }
   ],
   "source": [
    "features = ['User_id', 'Mode', 'Duration_ms', 'Instrumentalness', 'Acousticness', 'Danceability', 'Energy', 'Liveness', 'Loudness', 'Speechiness', 'Tempo', 'Valence']\n",
    "def combine_all_features(row):\n",
    "    return str(row['User_id']) + \" \" + str(row['Mode']) + \" \" + str(row['Duration_ms']) + \" \" + str(row['Instrumentalness']) + \" \" + str(row['Acousticness']) + \" \" + str(row['Danceability']) + \" \" + str(row[\"Energy\"]) + \" \" + str(row[\"Liveness\"]) + \" \" + str(row[\"Loudness\"]) + \" \" + str(row[\"Speechiness\"]) + \" \" + str(row[\"Tempo\"]) + \" \" + str(row[\"Valence\"])\n",
    "df_spotify['Combined_features'] = df_spotify.apply(combine_all_features, axis=1)\n",
    "# Crie uma nova matriz de contagem\n",
    "cv = CountVectorizer()\n",
    "count_matrix = cv.fit_transform(df_spotify['Combined_features'])\n",
    "cosine_sim = cosine_similarity(count_matrix)\n",
    "# Função para obter o índice de um artista com base no nome do artista\n",
    "def fetch_track_from_user(User_id):\n",
    "    return df_spotify[df_spotify['User_id'] == User_id].index[0]\n",
    "# Escolha um 'user_id' para encontrar artistas similares\n",
    "user_id_choice = \"371b7d462ce34846987451a3d66624ed\"\n",
    "# Encontre o índice correspondente ao 'user_id' escolhido\n",
    "user_id_index = df_spotify[df_spotify['User_id'] == user_id_choice].index[0]\n",
    "# Obtenha artistas similares com base no 'user_id'\n",
    "similar_songs_user = list(enumerate(cosine_sim[user_id_index]))\n",
    "user_heard_songs = df_spotify[df_spotify['User_id'] == user_id_choice]['Track_name']\n",
    "similar_songs_user = [song for song in similar_songs_user if df_spotify['Track_name'].iloc[song[0]] not in user_heard_songs]\n",
    "recommended_songs_set = set()\n",
    "# Ordene por similaridade (do mais similar para o menos similar)\n",
    "sim_songs_sort_user = sorted(similar_songs_user, key=lambda x: x[1], reverse=True)[1:]\n",
    "# Imprima as 10 principais recomendações com base no 'user_id'\n",
    "i = 0\n",
    "print(f\"Top 10 artistas mais relacionados ao usuário com user_id '{user_id_choice}' são:\\n\")\n",
    "for element in sim_songs_sort_user:\n",
    "    recommended_song = df_spotify['Track_name'].iloc[element[0]]\n",
    "    # Adicionar à lista apenas se não estiver nas músicas recomendadas\n",
    "    if recommended_song not in recommended_songs_set:\n",
    "        recommended_songs_set.add(recommended_song)\n",
    "        print(i + 1, '->', recommended_song)\n",
    "        i = i + 1\n",
    "    if i >= 10:\n",
    "        break"
   ]
  },
  {
   "cell_type": "code",
   "execution_count": null,
   "metadata": {},
   "outputs": [],
   "source": []
  },
  {
   "cell_type": "code",
   "execution_count": null,
   "metadata": {},
   "outputs": [],
   "source": []
  }
 ],
 "metadata": {
  "kernelspec": {
   "display_name": "Python 3",
   "language": "python",
   "name": "python3"
  },
  "language_info": {
   "codemirror_mode": {
    "name": "ipython",
    "version": 3
   },
   "file_extension": ".py",
   "mimetype": "text/x-python",
   "name": "python",
   "nbconvert_exporter": "python",
   "pygments_lexer": "ipython3",
   "version": "3.12.2"
  }
 },
 "nbformat": 4,
 "nbformat_minor": 2
}
